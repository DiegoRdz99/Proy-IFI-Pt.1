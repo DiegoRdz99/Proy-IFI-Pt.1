{
 "cells": [
  {
   "cell_type": "markdown",
   "metadata": {},
   "source": [
    "# Fourier-Transformation 2D - Übungen"
   ]
  },
  {
   "cell_type": "markdown",
   "metadata": {},
   "source": [
    "### 2.1 Beweisen Sie die folgende Eigenschaften der Delta-Distribution $\\delta$:"
   ]
  },
  {
   "cell_type": "markdown",
   "metadata": {},
   "source": [
    "#### a) $\\displaystyle\\delta(ax,by)=\\frac{\\delta(x,y)}{|ab|}$"
   ]
  },
  {
   "cell_type": "markdown",
   "metadata": {},
   "source": [
    "Wir haben die Faltungseigenschaft:\n",
    "$$\\langle\\delta,f\\rangle=\\int_{-\\infty}^{\\infty}\\delta(x)f(x)dx=f(0)$$\n",
    "Das müssen wir nicht hier beweisen, aber vertrau mir, es ist wahr. Wir benutzen jetzt $ax$ als Argument:\n",
    "$$\\int_{-\\infty}^{\\infty}\\delta(ax)f(x)dx=f(0)$$\n",
    "Und jetzt Substitution $\\xi=ax$ und $d\\xi=adx$\n",
    "$$\\int_{-\\infty}^{\\infty}\\frac{1}{a}\\delta(\\xi)f(\\xi)d\\xi=f(0)$$\n",
    "Aber hier $\\xi$ wäre eine Dummy-Variable, da das Ergebnis $f(0)$ unabhängig von $x$ ist. Wir könnten dann wieder $x$ benutzen:\n",
    "$$\\int_{-\\infty}^{\\infty}\\frac{1}{a}\\delta(x)f(x)dx=f(0)$$\n",
    "Und tada, haben wir\n",
    "$$\\delta(ax)=\\frac{\\delta(x)}{a}$$\n",
    "Aber moment mal. $f(0)$ ist auch von $a$ unabhängig. Wenn $a$ negativ wäre, würde das Sign von $f(0)$ auch ändern. Deshalb muss dass anders sein:\n",
    "$$\\delta(ax)=\\frac{\\delta(x)}{|a|}$$\n",
    "Wenn wir zwei Dimensionen haben ist es egal:\n",
    "$$\\int_{-\\infty}^{\\infty}\\int_{-\\infty}^{\\infty}\\delta(ax,by)f(x,y)dxdy=f(0,0)$$\n",
    "Wir benutzen zB $\\xi=ax$, $d\\xi=adx$ und $\\zeta=by$, $d\\zeta=bd\\zeta$ und da wären wir fertig\n",
    "$$\\therefore\\boxed{\\delta(ax,by)=\\frac{\\delta(x,y)}{|ab|}}$$"
   ]
  },
  {
   "cell_type": "markdown",
   "metadata": {},
   "source": [
    "#### b) $\\displaystyle\\text{comb}(ax)\\text{comb}(bx)=\\frac{1}{|ab|}\\sum_{n=-\\infty}^\\infty\\sum_{m=-\\infty}^\\infty \\delta\\left(x-\\frac{n}{a},y-\\frac{m}{b}\\right)$"
   ]
  },
  {
   "cell_type": "markdown",
   "metadata": {},
   "source": [
    "### 2.2 Beweisen Sie die folgende Fourier-Transformationen:"
   ]
  },
  {
   "cell_type": "markdown",
   "metadata": {},
   "source": [
    "#### a) $\\displaystyle\\mathcal{F}\\{\\text{rect}(x)\\text{rect}(y)\\}=\\text{sinc}(u)\\text{sinc}(v)$"
   ]
  }
 ],
 "metadata": {
  "kernelspec": {
   "display_name": "Julia 1.5.3",
   "language": "julia",
   "name": "julia-1.5"
  },
  "language_info": {
   "file_extension": ".jl",
   "mimetype": "application/julia",
   "name": "julia",
   "version": "1.5.3"
  }
 },
 "nbformat": 4,
 "nbformat_minor": 4
}
