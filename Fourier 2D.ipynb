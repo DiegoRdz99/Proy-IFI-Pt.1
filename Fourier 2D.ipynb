{
 "cells": [
  {
   "cell_type": "markdown",
   "metadata": {},
   "source": [
    "# Die n-dimensionale Fourier-Transformation\n",
    "\n",
    "Wir kennen schon die Fourier-Transformation für eine unabängige Variable, so haben wir es:\n",
    "\n",
    "Sei $f\\in\\mathbb{R}$ eine integrierbare Funktion. Die (kontinuerliche) Fourier-Transformierte $\\mathcal{F}\\{f(t)\\}$ ist definiert durch\n",
    "\\begin{equation}\n",
    "\\mathcal{F}\\{f(t)\\}=g(\\omega)=\\frac{1}{\\sqrt{2\\pi}}\\int_{-\\infty}^{\\infty}f(t)e^{-i\\omega t}dt\n",
    "\\end{equation}\n",
    "und die zugehörige inverse Transformation lautet:\n",
    "\\begin{equation}\n",
    "\\mathcal{F}^{-1}\\{g(\\omega)\\}=f(t)=\\frac{1}{\\sqrt{2\\pi}}\\int_{-\\infty}^{\\infty}g(\\omega)e^{i\\omega t}d\\omega\n",
    "\\end{equation}\n",
    "Aber auch ist es möglich, diese mathematische Ausdrücke für funktionen $f\\in\\mathbb{R}_n$ schreiben. Also:\n",
    "\\begin{equation}\n",
    "\\mathcal{F}\\{f(t)\\}=g(\\omega)=\\frac{1}{\\sqrt{2\\pi}^n}\\int_{\\mathbb{R}_n}f(t)e^{-i\\omega\\cdot t}dt\n",
    "\\end{equation}\n",
    "\\begin{equation}\n",
    "\\mathcal{F}^{-1}\\{g(\\omega)\\}=f(t)=\\frac{1}{\\sqrt{2\\pi}^n}\\int_{\\mathbb{R}_n}g(\\omega)e^{i\\omega\\cdot t}d\\omega\n",
    "\\end{equation}\n",
    "Dabei gilt: $dt$ und $d\\omega$ wären $n$-dimensionale Volumenelemente und \"$\\omega\\cdot t$\" das Standardskalarprodukt der Vektoren $t$ und $\\omega$."
   ]
  },
  {
   "cell_type": "markdown",
   "metadata": {},
   "source": [
    "# Sonderfall: 2D Fourier-Transformationen\n",
    "\n",
    "In 1 Dimension benutzen wir normalerweise $t$ für Zeit- und $\\omega$ für Frequenzraum. In 2 Dimensionen Fourier-Transformationen (2DFT) ist es einfacher, auf räumlicher Dimensionen zu denken. Das heißt, $t=x\\hat{i}+y\\hat{j}$. Für $g$ benutzen wir $(u,v)$, die vertikale und horizontale räumliche Frequenzen. Das heißt, $\\omega=u\\hat{i}+v\\hat{j}$. Da wäre $\\omega\\cdot t=ux+vy$ und infolgedessen werden die funktionen so geschrieben: $f(t)=f(x,y)$ und $g(\\omega)=g(u,v)$, beziehungsweise $dt=dxdy$ und $d\\omega=dudv$. Die Ausdrücke für 2 Dimensionen wären\n",
    "\\begin{equation}\n",
    "\\mathcal{F}\\{f(x,y)\\}=g(u,v)=\\frac{1}{2\\pi}\\int_{-\\infty}^{\\infty}\\int_{-\\infty}^{\\infty}f(x,y)e^{-i(ux+vy)}dxdy\n",
    "\\end{equation}\n",
    "\\begin{equation}\n",
    "\\mathcal{F}^{-1}\\{g(u,v)\\}=f(x,y)=\\frac{1}{2\\pi}\\int_{-\\infty}^{\\infty}\\int_{-\\infty}^{\\infty}g(u,v)e^{i(ux+vy)}dudv\n",
    "\\end{equation}\n",
    "Manche Authoren schreiben es anders:\n",
    "\\begin{equation}\n",
    "\\mathcal{F}\\{f(x,y)\\}=g(f_X,f_Y)=\\int\\int_{-\\infty}^{\\infty}f(x,y)e^{-2\\pi i(f_Xx+f_Yy)}dxdy\n",
    "\\end{equation}\n",
    "Das kann folgendes erklären werden. Am Anfang war es mit $\\xi$, oder $f$, statt $\\omega$, und $\\omega=2\\pi\\xi=2\\pi f$. $\\omega$ ist die Kreisfrequenz und $\\xi$ oder $f$ sind nur Frequenzen. In letzter Beispiel ist es einfach zu sehen, weil die räumliche frequenzen sind $f_X$ und $f_Y$, statt $\\omega_X$ und $\\omega_Y$. Deshalb sind sie anders, aber beide sind gültig.\n",
    "\n",
    "Die funktion $f(x,y)$ muss einige Bedingungen erfüllen, damit das wahr ist:\n",
    "1. $f(x,y)$ muss absolut integrierbar sein, d.h. $\\displaystyle\\iint_{R^2}\\vert f(x,y)\\vert dxdy$ muss endlich sein\n",
    "2. $f(x,y)$ muss nur ein endliche Anzahl von Diskontinuitäten und Extremwerte haben\n",
    "3. $f(x,y)$ muss keine Polstelle haben"
   ]
  },
  {
   "cell_type": "markdown",
   "metadata": {},
   "source": [
    "# Eigenschaften der 2DFT\n",
    "\n",
    "Sei $\\displaystyle\\mathcal{F}\\{g(x,y)\\}=G(u,v)$ und $\\displaystyle\\mathcal{F}\\{h(x,y)\\}=H(u,v)$:\n",
    "\n",
    "- ### Delta-Distribution - $\\displaystyle\\mathcal{F}\\{\\delta(x,y)\\}=1$\n",
    "- ### Linearitätssatz - $\\displaystyle\\mathcal{F}\\{\\alpha g+\\beta h\\} = \\alpha\\mathcal{F}\\{g\\}+\\beta\\mathcal\\{h\\}$\n",
    "- ### Ähnlichkeitssatz - $\\displaystyle\\mathcal{F}\\{g(\\alpha x,\\beta y)\\}=\\frac{1}{\\vert\\alpha\\beta\\vert }G\\left(\\frac{u}{\\alpha},\\frac{v}{\\beta}\\right)$  \n",
    "Das ist sehr wichtig und die Grundlage der Unschärferelation. Es bedeutet, dass wann immer wir die Koordinaten des räumliches Dimensions verlängern, werden die Frequenzen sich verkürzen.\n",
    "- ### Verschiebungssatz - $\\displaystyle\\mathcal{F}\\{g(x-x_0,y-y_0)\\}=G(u,v)\\cdot e^{-i(ux_0+vy_0)}$\n",
    "- ### Satz von Parseval - $\\displaystyle\\iint_{\\mathbb{R}^2}\\vert g(x,y)\\vert^2dxdy=\\displaystyle\\iint_{\\mathbb{R}^2}\\vert G(u,v)\\vert^2dudv$\n",
    "- ### Faltungssatz - $\\displaystyle\\mathcal{F}\\left\\{\\iint_{\\mathbb{R}^2} g(\\xi,\\eta)h(x-\\xi,y-\\eta)d\\xi d\\eta\\right\\}=G(u,v)H(u,v)$\n",
    "- ### Autokorrelationssatz - $\\displaystyle\\mathcal{F}\\left\\{\\iint_{\\mathbb{R}^2} g(\\xi,\\eta)g^*(\\xi-x,\\eta-y)d\\xi d\\eta\\right\\}=\\vert G(u,v)\\vert^2$\n",
    "- ### Fourierischer Integralsatz - $\\displaystyle\\mathcal{F}\\left\\{\\mathcal{F}^{-1}\\{g(x,y)\\}\\right\\}=\\mathcal{F}^{-1}\\left\\{\\mathcal{F}\\{g(x,y)\\}\\right\\}=g(x,y)$"
   ]
  },
  {
   "cell_type": "markdown",
   "metadata": {},
   "source": [
    "# Separationsätze\n",
    "\n",
    "Ein Separationsatz ist eine Funktion, die mehreren Variablen hat ($n$-Variablen) und dass als Produkt von $n$ einzelne Variable Funktionen, die jede von diese $n$ variable haben. Das heißt:\n",
    "\\begin{equation}\n",
    "g(x,y)=X(x)Y(y)\n",
    "\\end{equation}\n",
    "Diese Funktion wäre ein Separationsatz durch das Kartesisches Koordinatensystem. Es wäre auch möglich, dass die Funktion durch andere Koordinatensysteme auch eine Separationsatz ist, zB durch Polarkoodrinaten:\n",
    "\\begin{equation}\n",
    "g(r,\\theta)=R(r)\\Theta(\\theta)\n",
    "\\end{equation}\n",
    "Für uns werden diese Funktionen sehr nutzlich sein, das werden wir bald sehen. Sei $g(x,y)=X(x)Y(y)$:\n",
    "$$\\mathcal{F}\\{g(x,y)\\}=\\frac{1}{2\\pi}\\iint_{\\mathbb{R}^2}g(x,y)e^{-i(ux+vy)}dxdy$$\n",
    "$$\\Rightarrow\\mathcal{F}\\{g(x,y)\\}=\\frac{1}{2\\pi}\\iint_{\\mathbb{R}^2}X(x)Y(y)e^{-iux}e^{ivy}dxdy$$\n",
    "$$\\Rightarrow\\mathcal{F}\\{g(x,y)\\}=\\frac{1}{2\\pi}\\iint_{\\mathbb{R}^2}\\left[X(x)e^{-iux}dx\\right]\\left[Y(y)e^{ivy}dy\\right]$$\n",
    "$$\\Rightarrow\\mathcal{F}\\{g(x,y)\\}=\\frac{1}{2\\pi}\\int_{-\\infty}^{\\infty}X(x)e^{-iux}dx\n",
    "\\int_{-\\infty}^{\\infty}Y(y)e^{ivy}dy$$"
   ]
  },
  {
   "cell_type": "code",
   "execution_count": 1,
   "metadata": {},
   "outputs": [
    {
     "ename": "LoadError",
     "evalue": "ArgumentError: Package FFTW not found in current path:\n- Run `import Pkg; Pkg.add(\"FFTW\")` to install the FFTW package.\n",
     "output_type": "error",
     "traceback": [
      "ArgumentError: Package FFTW not found in current path:\n- Run `import Pkg; Pkg.add(\"FFTW\")` to install the FFTW package.\n",
      "",
      "Stacktrace:",
      " [1] require(::Module, ::Symbol) at .\\loading.jl:893",
      " [2] include_string(::Function, ::Module, ::String, ::String) at .\\loading.jl:1091"
     ]
    }
   ],
   "source": [
    "using FFTW\n",
    "\n"
   ]
  }
 ],
 "metadata": {
  "kernelspec": {
   "display_name": "Julia 1.5.3",
   "language": "julia",
   "name": "julia-1.5"
  },
  "language_info": {
   "file_extension": ".jl",
   "mimetype": "application/julia",
   "name": "julia",
   "version": "1.5.3"
  }
 },
 "nbformat": 4,
 "nbformat_minor": 4
}
