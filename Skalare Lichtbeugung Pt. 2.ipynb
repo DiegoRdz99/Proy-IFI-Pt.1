{
 "cells": [
  {
   "cell_type": "markdown",
   "id": "87345259",
   "metadata": {},
   "source": [
    "# Skalare Lichtbeugung Teil 2"
   ]
  },
  {
   "cell_type": "markdown",
   "id": "0b43b4c7",
   "metadata": {},
   "source": [
    "### Kirchhoffs Darstellung der Beugung eines flaches Bildschrims\n",
    "Lass uns die Lichtbeugung wegen eines unendliches opakes Bildschrims betrachten, sowie in nächstes Figur:"
   ]
  },
  {
   "attachments": {
    "863ff712-d39c-4b1c-9336-19bf87e5c108.png": {
     "image/png": "[encoded data removed]"
    }
   },
   "cell_type": "markdown",
   "id": "e2d8e445",
   "metadata": {},
   "source": [
    "![Kirchhoff.png](attachment:863ff712-d39c-4b1c-9336-19bf87e5c108.png)"
   ]
  },
  {
   "cell_type": "markdown",
   "id": "76aa3232",
   "metadata": {},
   "source": [
    "Wir wollen das Feld beim Punkt $P_0$ finden und dafür können wir der Helmholtz-Kirchhoff Integralsatz benutzen. Wir müssen uns nur entscheiden, welche Fläche wir auswählen solllen. Die Fläche, die wir benutzen werden, ist die, die beim Bild steht. Die gesamte Fläche $S$ hat einen sphärischen Teil $S_2$ mit Radius $R$ und einen ebenen Teil $S_1$, die genau hinten dem Bildschirm steht. Dann haben wir:\n",
    "$$U(r_0)=\\frac{1}{4\\pi}\\iint\\limits_{S_1+S_2}\\left[\\frac{e^{ikr}}{r}\\frac{\\partial U}{\\partial n}-U\\frac{\\partial}{\\partial n}\\left(\\frac{e^{ikr}}{r}\\right)\\right]dS$$"
   ]
  },
  {
   "cell_type": "markdown",
   "id": "397b446d",
   "metadata": {},
   "source": [
    "Je größer $R$ desto eine größere Kugelschale wird $S_2$. Wir können versuchen es zu überprüfen, dass die Kontribution von $S_2$ null sein wird. In $S_2$ wir haben $r=R$, sodass\n",
    "$$G(R)=\\frac{e^{ikR}}{R}$$\n",
    "Und\n",
    "$$\\frac{\\partial G(r)}{\\partial n}=\\frac{e^{ikr}}{r}\\left(ik-\\frac{1}{r}\\right)\\hat{n}\\cdot\\hat{r}\\biggr\\vert_{r=R}$$"
   ]
  },
  {
   "cell_type": "markdown",
   "id": "17acc3d9",
   "metadata": {},
   "source": [
    "Wobei $\\hat{n}\\cdot\\hat{r}=1$.\n",
    "$$\\Rightarrow\\frac{\\partial G(r)}{\\partial n}=\\frac{e^{ikR}}{R}\\left(ik-\\frac{1}{R}\\right)=\\frac{ike^{ikR}}{R}-\\frac{e^{ikR}}{R^2}$$\n",
    "Der Begriff $\\frac{1}{R^2}$ wird sehr klein sein, wenn $R$ groß ist, sodass\n",
    "$$\\Rightarrow\\frac{\\partial G(r)}{\\partial n}\\approx \\frac{ike^{ikR}}{R}$$\n",
    "Dann hätten wir:\n",
    "$$U(r_0)_{S_2}\\approx\\frac{1}{4\\pi}\\iint\\limits_{S_2}\\left[\\frac{e^{ikR}}{R}\\frac{\\partial U}{\\partial n}-U\\cdot\\frac{ike^{ikR}}{R}\\right]dS$$"
   ]
  },
  {
   "cell_type": "markdown",
   "id": "b66d57cc",
   "metadata": {},
   "source": [
    "Oder einfach nur\n",
    "$$U(r_0)_{S_2}\\approx\\frac{1}{4\\pi}\\iint\\limits_{S_2}\\left[G\\frac{\\partial U}{\\partial n}-ikUG\\right]dS=\\frac{1}{4\\pi}\\iint\\limits_{S_2}G\\left(\\frac{\\partial U}{\\partial n}-ikU\\right)dS$$"
   ]
  },
  {
   "cell_type": "markdown",
   "id": "0ccb7200",
   "metadata": {},
   "source": [
    "Wir können der Raumwinkel benutzen:\n",
    "$$\\frac{1}{4\\pi}\\int\\limits_{\\Omega}G\\left(\\frac{\\partial U}{\\partial n}-ikU\\right)R^2d\\omega$$\n",
    "$$\\Rightarrow\\frac{1}{4\\pi}\\int\\limits_{\\Omega}e^{ikR}R\\left(\\frac{\\partial U}{\\partial n}-ikU\\right)d\\omega$$\n",
    "Wir brauchen\n",
    "$$\\lim_{R\\to\\infty}R\\left(\\frac{\\partial U}{\\partial n}-ikU\\right)=0$$"
   ]
  },
  {
   "cell_type": "markdown",
   "id": "191dbc4f",
   "metadata": {},
   "source": [
    "Das ist Sommerfelds Radiationsbedingung, die immer wahr ist, so lange wie $U$ zumindest so schnell wie eine Kugelwelle verschwindet. Das ist der Fall für welle, die von $S_2$ rauskommen, statt reinzukommen. Wenn wir nur die erste Art Welle betrachten, wird die Kontribution der Integral gleich null."
   ]
  },
  {
   "cell_type": "markdown",
   "id": "2a78dddb",
   "metadata": {},
   "source": [
    "### Kirchhoffs Randbedingungen"
   ]
  },
  {
   "cell_type": "markdown",
   "id": "0f03c681",
   "metadata": {},
   "source": [
    "Alles gut, damit sind wir fertig, aber jetzt müssen wir uns um $S_1$ kümmern:\n",
    "$$U(r_0)=\\frac{1}{4\\pi}\\iint\\limits_{S_1}\\left[\\frac{e^{ikr}}{r}\\frac{\\partial U}{\\partial n}-U\\frac{\\partial}{\\partial n}\\left(\\frac{e^{ikr}}{r}\\right)\\right]dS$$\n",
    "Wenn $R\\to\\infty$, dann wird $S_1$ eine unendliche Ebene sein. Der Bildschirm ist opak, aber es gibt eine Öffnung. Der Teil der $S_1$ Fläche, die in der Öffnung ist, werden wir $\\Sigma$ nennen. Hier benutzen wir Kirchhoffs Randbedingungen:\n",
    "1. In $\\Sigma$, die Felddistribution $U$ und ihre Abteilung durch $\\hat{n}$ verhalten als würde es kein Bildschirm geben.\n",
    "2. In der Teil von $S_1$, der hinter den Bildschirm steht, die Felddistribution $U$ und ihre Abteilung durch $\\hat{n}$ sind gleich null"
   ]
  },
  {
   "cell_type": "markdown",
   "id": "3c506e7f",
   "metadata": {},
   "source": [
    "Dann hätten wir:\n",
    "$$U(r_0)=\\frac{1}{4\\pi}\\iint\\limits_{\\Sigma}\\left[\\frac{e^{ikr}}{r}\\frac{\\partial U}{\\partial n}-U\\frac{\\partial}{\\partial n}\\left(\\frac{e^{ikr}}{r}\\right)\\right]dS$$"
   ]
  },
  {
   "cell_type": "markdown",
   "id": "9883ce5d",
   "metadata": {},
   "source": [
    "Das sieht schön aus. Vielleicht, so schön... Ehrlich gesagt ist diese Approximation hat ein paar Probleme. Die Felddistribution und ihre Abteilung in $\\Sigma$ können nicht vom Bildschirm unabhängig sein, weil es Randbedingungen in $\\Sigma$ gibt, die ohne den Bildschrim nicht geben würden. Außerdem sind die Schatten hinter dem Bildschirm nicht perfekt. Aber für Falle, wo die Öffnung groß im Vergleich zur Wellenlänge ist, diese Bedingungen macht Sinn."
   ]
  },
  {
   "cell_type": "markdown",
   "id": "5520b323",
   "metadata": {},
   "source": [
    "### Fresnel-Kirchhoff Beugungsformel\n",
    "Als Konzequenz von der Randbedingungen können wir andere Vereinfachungen machen. Weil die Wellenlänge klein ist, wird $r$ normalerweise viel größer als $\\lambda$, sodass\n",
    "$$r\\gg\\lambda$$"
   ]
  },
  {
   "cell_type": "markdown",
   "id": "815a89cb",
   "metadata": {},
   "source": [
    "Oder auch\n",
    "$$\\frac{1}{r}\\ll\\frac{1}{\\lambda}$$\n",
    "Und $k$ ist durch folgendes definiert\n",
    "$$k=\\frac{2\\pi}{\\lambda}$$\n",
    "Sodass\n",
    "$$\\frac{1}{r}\\ll k$$"
   ]
  },
  {
   "cell_type": "markdown",
   "id": "dcd97782",
   "metadata": {},
   "source": [
    "Dann hätten wir\n",
    "$$\\frac{\\partial G(r)}{\\partial n}=\\frac{e^{ikr}}{r}\\left(ik-\\frac{1}{r}\\right)\\hat{n}\\cdot\\hat{r}$$\n",
    "$$\\Rightarrow\\frac{\\partial G(r)}{\\partial n}\\approx\\frac{e^{ikr}}{r}\\left(ik\\right)\\hat{n}\\cdot\\hat{r}=\\frac{ike^{ikr}}{r}\\hat{n}\\cdot\\hat{r}$$"
   ]
  },
  {
   "cell_type": "markdown",
   "id": "e15bb96c",
   "metadata": {},
   "source": [
    "In unserer Gleichung hätten wir\n",
    "$$U(r_0)=\\frac{1}{4\\pi}\\iint\\limits_{\\Sigma}\\left[\\frac{e^{ikr}}{r}\\frac{\\partial U}{\\partial n}-U\\frac{ike^{ikr}}{r}\\hat{n}\\cdot\\hat{r}\\right]dS$$\n",
    "$$U(r_0)=\\frac{1}{4\\pi}\\iint\\limits_{\\Sigma}\\frac{e^{ikr}}{r}\\left(\\frac{\\partial U}{\\partial n}-ikU\\hat{n}\\cdot\\hat{r}\\right)dS$$"
   ]
  },
  {
   "cell_type": "markdown",
   "id": "bec881ed",
   "metadata": {},
   "source": [
    "Wir nehmen an, dass die Öffnung nur durch eine Kugelwelle leuchtet ist, sodass\n",
    "$$U(r')=\\frac{Ae^{ikr'}}{r'}$$\n",
    "Sowie es in nächsten Figur ausdruckt ist"
   ]
  },
  {
   "attachments": {
    "0097db8c-df1e-4fc5-9e1f-a061d129a2fe.png": {
     "image/png": "[encoded data removed]"
    }
   },
   "cell_type": "markdown",
   "id": "403d865b",
   "metadata": {},
   "source": [
    "![Kirchhoff-Fresnel.png](attachment:0097db8c-df1e-4fc5-9e1f-a061d129a2fe.png)"
   ]
  },
  {
   "cell_type": "markdown",
   "id": "b730bc44",
   "metadata": {},
   "source": [
    "Dan hätten wir\n",
    "$$\\frac{\\partial U(r')}{\\partial n}=\\frac{Ae^{ikr'}}{r'}\\left(ik-\\frac{1}{r'}\\right)\\hat{n}\\cdot\\hat{r}'$$\n",
    "Wenn $r'\\gg\\lambda$ haben wir, dass $r'\\ll k$ und so:\n",
    "$$\\frac{\\partial U(r')}{\\partial n}\\approx\\frac{ikAe^{ikr'}}{r'}\\hat{n}\\cdot\\hat{r}'$$"
   ]
  },
  {
   "cell_type": "markdown",
   "id": "eb6099d2",
   "metadata": {},
   "source": [
    "In der Integral:\n",
    "$$U(r_0)=\\frac{1}{4\\pi}\\iint\\limits_{\\Sigma}\\frac{e^{ikr}}{r}\\left[\\frac{ikAe^{ikr'}}{r'}\\hat{n}\\cdot\\hat{r}'-ik\\left(\\frac{Ae^{ikr'}}{r'}\\right)\\hat{n}\\cdot\\hat{r}\\right]dS$$\n",
    "$$\\Rightarrow U(r_0)=\\frac{1}{4\\pi}\\iint\\limits_{\\Sigma}\\frac{e^{ikr}}{r}\\left(\\frac{ikAe^{ikr'}}{r'}\\hat{n}\\cdot\\hat{r}'-\\frac{ikAe^{ikr'}}{r'}\\hat{n}\\cdot\\hat{r}\\right)dS$$\n",
    "$$\\Rightarrow U(r_0)=\\frac{1}{4\\pi}\\iint\\limits_{\\Sigma}\\frac{ikAe^{ik(r+r')}}{rr'}\\left(\\hat{n}\\cdot\\hat{r}'-\\hat{n}\\cdot\\hat{r}\\right)dS$$\n",
    "$$\\Rightarrow U(r_0)=\\frac{1}{4\\pi}\\iint\\limits_{\\Sigma}\\frac{ikAe^{ik(r+r')}}{rr'}\\left(\\hat{n}\\cdot\\hat{r}'-\\hat{n}\\cdot\\hat{r}\\right)dS$$\n",
    "$$\\Rightarrow U(r_0)=\\frac{ikA}{4\\pi}\\iint\\limits_{\\Sigma}\\frac{e^{ik(r+r')}}{rr'}\\left(\\hat{n}\\cdot\\hat{r}'-\\hat{n}\\cdot\\hat{r}\\right)dS$$"
   ]
  },
  {
   "cell_type": "markdown",
   "id": "1656f3ef",
   "metadata": {},
   "source": [
    "Weil $\\frac{1}{i}=-i$ und $k=\\frac{2\\pi}{k}$:\n",
    "$$U(r_0)=-\\frac{2\\pi A}{4\\pi i\\lambda}\\iint\\limits_{\\Sigma}\\frac{e^{ik(r+r')}}{rr'}\\left(\\hat{n}\\cdot\\hat{r}'-\\hat{n}\\cdot\\hat{r}\\right)dS$$\n",
    "$$\\Rightarrow U(r_0)=-\\frac{A}{2 i\\lambda}\\iint\\limits_{\\Sigma}\\frac{e^{ik(r+r')}}{rr'}\\left(\\hat{n}\\cdot\\hat{r}'-\\hat{n}\\cdot\\hat{r}\\right)dS$$\n",
    "$$\\therefore\\boxed{ U(r_0)=\\frac{A}{ i\\lambda}\\iint\\limits_{\\Sigma}\\frac{e^{ik(r+r')}}{rr'}\\left(\\frac{\\hat{n}\\cdot(\\hat{r}-\\hat{r}')}{2}\\right)dS}$$"
   ]
  },
  {
   "cell_type": "markdown",
   "id": "2fdda033",
   "metadata": {},
   "source": [
    "Diese Ergebnis funktioniert nur für eine einzige Quelle leuchtung. Es gibt eine Symmetrie, als man das sehen kann. Was bedeutet, dass die Effekt einer Quelle in $P_0'$ für ein punkt $P_0$ würde dieselbe Effekt in $P_0'$ sein, als ob dieser Quelle in $P_0$ wäre. Das nennen wir Helmholtzs Reprozitätstheorem."
   ]
  },
  {
   "cell_type": "markdown",
   "id": "f3f8a3d7",
   "metadata": {},
   "source": [
    "## Rayleich-Sommerfeld Darstellung der Beugung\n",
    "Kirchhoffs Darstellung gibt uns genau Ergebnisse und wir benutzen es noch in viele Falle. Aber es gibt ein paar Probleme damit, innere Inkonsistenz. Aber hier kommen Raylech und Sommerfeld um uns zu retten. Wir können nicht im beide $U$ und $\\displaystyle\\frac{\\partial U}{\\partial n}$ die Bedingungen haben, sonst würde $U$ über die ganze Raum verschwinden, und das wissen wir falsch."
   ]
  },
  {
   "cell_type": "markdown",
   "id": "5cf9c1b0",
   "metadata": {},
   "source": [
    "### Alternative Greensche Funktionen"
   ]
  },
  {
   "cell_type": "markdown",
   "id": "67214a5f",
   "metadata": {},
   "source": [
    "Wir können eine andere $G$ funktion auswählen, sodass entweder $G$ oder $\\displaystyle\\frac{\\partial U}{\\partial n}$ verschwindet. Lass wir uns betrachten, dass $G$ ist nicht nur wegen eines Punkts $P_0$ generiert, sondern auch wegen eines anderen Punkts $\\tilde{P}_0$, das ein Spiegelbild von $P_0$ ist. Wir nehmen ab, dass diese Quelle eine Phasenunterschied von $\\pi$ haben, dann hätten wir. Diese funktion nennen wir $G_-$, und es ist durch folgendes definiert:\n",
    "$$G_-(r,\\tilde{r})=\\frac{e^{ikr}}{r}-\\frac{e^{ik\\tilde{r}}}{\\tilde{r}}$$"
   ]
  },
  {
   "attachments": {
    "93eafbf3-fa52-42fc-9093-6eb896c2360d.png": {
     "image/png": "[encoded data removed]"
    }
   },
   "cell_type": "markdown",
   "id": "dfb1d009",
   "metadata": {},
   "source": [
    "![G- Rayleigh-Sommerfeld.png](attachment:93eafbf3-fa52-42fc-9093-6eb896c2360d.png)"
   ]
  },
  {
   "cell_type": "markdown",
   "id": "d8b79762",
   "metadata": {},
   "source": [
    "Selbstverständlich ist $G_-$ in $\\Sigma$ gleich null, weil in diesen Fall würde $r=\\tilde{r}$ sein. Aber das ist nicht der Fall für alle andere Punkte. Aber zum Glück sind diese andere Punkte nicht nötig für unser Problem, weil wir nur in die Ebene $\\Sigma$ interesse haben. Bis hier\n",
    "$$U_I(r_0)=\\frac{1}{4\\pi}\\iint\\limits_{\\Sigma}\\left[\\frac{e^{ikr}}{r}\\frac{\\partial U}{\\partial n}-U\\frac{\\partial}{\\partial n}\\left(\\frac{e^{ikr}}{r}\\right)\\right]dS$$\n",
    "ist alles gut. Wir substituieren dann $G_-$ statt $G$ und hätten\n",
    "$$U_I(r_0)=\\frac{1}{4\\pi}\\iint\\limits_{\\Sigma}\\left[G_-(r,\\tilde{r})\\frac{\\partial U}{\\partial n}-U\\frac{\\partial G_-(r,\\tilde{r})}{\\partial n}\\right]dS$$"
   ]
  },
  {
   "cell_type": "markdown",
   "id": "538a75d5",
   "metadata": {},
   "source": [
    "Aber in $\\Sigma$ haben wir $r=\\tilde{r}$, sodass:\n",
    "$G_-(r,r)=0$\n",
    "Dann hätten wir:\n",
    "$$U_I(r_0)=\\frac{1}{4\\pi}\\iint\\limits_{\\Sigma}\\left[-U\\frac{\\partial G_-(r,\\tilde{r})}{\\partial n}\\biggr\\vert_{r=r,\\tilde{r}=r}\\right]dS$$\n",
    "$$\\Rightarrow U_I(r_0)=-\\frac{1}{4\\pi}\\iint\\limits_{\\Sigma}\\left[U\\frac{\\partial G_-(r,\\tilde{r})}{\\partial n}\\biggr\\vert_{r=r,\\tilde{r}=r}\\right]dS$$"
   ]
  },
  {
   "cell_type": "markdown",
   "id": "06f512a2",
   "metadata": {},
   "source": [
    "Das hier ist die erste Rayleigh-Sommerfeld Lösung.\n",
    "\n",
    "Lass uns die Abteilung rechnen:\n",
    "$$\\frac{\\partial G_-(r,\\tilde{r})}{\\partial n}=\\frac{\\partial}{\\partial n}\\left(\\frac{e^{ikr}}{r}-\\frac{e^{ik\\tilde{r}}}{\\tilde{r}}\\right)$$\n",
    "$$\\Rightarrow\\frac{\\partial G_-(r,\\tilde{r})}{\\partial n}=\\left(ik-\\frac{1}{r}\\right)\\frac{e^{ikr}}{r}\\hat{n}\\cdot\\hat{r}-\\left(ik-\\frac{1}{\\tilde{r}}\\right)\\frac{e^{ik\\tilde{r}}}{\\tilde{r}}\\hat{n}\\cdot\\hat{\\tilde{r}}$$"
   ]
  },
  {
   "cell_type": "markdown",
   "id": "198afdb0",
   "metadata": {},
   "source": [
    "Für ein $P_1$, der im $\\sigma$ steht, würde es sein:\n",
    "$$\\left(ik-\\frac{1}{r}\\right)\\frac{e^{ikr}}{r}\\hat{n}\\cdot\\hat{r}-\\left(ik-\\frac{1}{r}\\right)\\frac{e^{ikr}}{r}(-\\hat{n}\\cdot\\hat{r})$$\n",
    "$$2\\left(ik-\\frac{1}{r}\\right)\\frac{e^{ikr}}{r}\\hat{n}\\cdot\\hat{r}$$"
   ]
  },
  {
   "cell_type": "markdown",
   "id": "34b2895d",
   "metadata": {},
   "source": [
    "Und für $r\\gg\\lambda$ hätten wir:\n",
    "$$\\frac{2ike^{ikr}}{r}\\hat{n}\\cdot\\hat{r}$$"
   ]
  },
  {
   "cell_type": "markdown",
   "id": "c82b8e1a",
   "metadata": {},
   "source": [
    "Das ist aber die Form, die wir vorher gekriegt haben, die mit $G$ anstatt von $G_-$.\n",
    "$$\\frac{\\partial G_-(r)}{\\partial n}=2\\frac{\\partial G(r)}{\\partial n}$$\n",
    "Dann können wir einfach nur schreiben:\n",
    "$$U_I(r_0)=-\\frac{1}{4\\pi}\\iint\\limits_{\\Sigma}U\\cdot2\\frac{\\partial G}{\\partial n}dS$$\n",
    "$$\\Rightarrow U_I(r_0)=-\\frac{1}{2\\pi}\\iint\\limits_{\\Sigma}U\\frac{\\partial G}{\\partial n}dS$$"
   ]
  },
  {
   "cell_type": "markdown",
   "id": "7f5bf3d6",
   "metadata": {},
   "source": [
    "Und jetzt\n",
    "$$U_I(r_0)=-\\frac{ik}{2\\pi}\\iint\\limits_{\\Sigma}U(r)\\frac{e^{ikr}}{r}\\hat{n}\\cdot\\hat{r}dS$$\n",
    "$$\\Rightarrow U_I(r_0)=\\frac{1}{i\\lambda}\\iint\\limits_{\\Sigma}U(r)\\frac{e^{ikr}}{r}\\hat{n}\\cdot\\hat{r}dS$$"
   ]
  },
  {
   "cell_type": "markdown",
   "id": "1595b10b",
   "metadata": {},
   "source": [
    "Und jetzt, für eine Kugelwelle, wie früher, hätten wir\n",
    "$$U(r')=A\\frac{e^{ikr'}}{r'}$$\n",
    "$$\\Rightarrow U_I(r_0)=\\frac{1}{i\\lambda}\\iint\\limits_{\\Sigma}A\\frac{e^{ikr'}}{r'}\\frac{e^{ikr}}{r}\\hat{n}\\cdot\\hat{r}dS$$\n",
    "$$\\boxed{U_I(r_0)=\\frac{A}{i\\lambda}\\iint\\limits_{\\Sigma}\\frac{e^{ik(r+r')}}{rr'}\\hat{n}\\cdot\\hat{r}dS}$$"
   ]
  },
  {
   "cell_type": "markdown",
   "id": "b2be61f0",
   "metadata": {},
   "source": [
    "Das hier ist der Rayleich-Sommerfeld Beugungssatz."
   ]
  },
  {
   "cell_type": "markdown",
   "id": "63f6eed4",
   "metadata": {},
   "source": [
    "Aber es gibt auch eine genau so gültig Greensche Funktion, die wir finden können, indem wir die Quelle ohne Phasenunterschied bauen. Wir nennen diese Funktion $G_+$:\n",
    "$$G_+(r,\\tilde{r})=\\frac{e^{ikr}}{r}+\\frac{e^{ik\\tilde{r}}}{\\tilde{r}}$$\n",
    "Dann hätten wir $U_{II}$ durch folgendes definiert:\n",
    "$$U_{II}(r_0)=\\frac{1}{4\\pi}\\iint\\limits_{\\Sigma}\\left[G_+(r,\\tilde{r})\\frac{\\partial U}{\\partial n}-U\\frac{\\partial G_+(r,\\tilde{r})}{\\partial n}\\right]dS$$"
   ]
  },
  {
   "cell_type": "markdown",
   "id": "cd9f8c86",
   "metadata": {},
   "source": [
    "In $\\Sigma$ haben wir $\\tilde{r}=r$, sodass:\n",
    "$$G_+(r,r)=\\frac{e^{ikr}}{r}+\\frac{e^{ikr}}{r}=2\\frac{e^{ikr}}{r}=2G(r)$$"
   ]
  },
  {
   "cell_type": "markdown",
   "id": "4a3510ef",
   "metadata": {},
   "source": [
    "Dann hätten wir\n",
    "$$U_{II}(r_0)=\\frac{1}{4\\pi}\\iint\\limits_{\\Sigma}\\left[2G(r)\\frac{\\partial U}{\\partial n}-U\\frac{\\partial G_+(r,\\tilde{r})}{\\partial n}\\biggr\\vert_{r=r,\\tilde{r}=r}\\right]dS$$"
   ]
  },
  {
   "cell_type": "markdown",
   "id": "24197860",
   "metadata": {},
   "source": [
    "Lass uns die Abteilung rechnen:\n",
    "$$\\frac{\\partial G_+(r,\\tilde{r})}{\\partial n}=\\frac{\\partial}{\\partial n}\\left(\\frac{e^{ikr}}{r}+\\frac{e^{ik\\tilde{r}}}{\\tilde{r}}\\right)$$\n",
    "$$\\Rightarrow\\frac{\\partial G_-(r,\\tilde{r})}{\\partial n}=\\left(ik-\\frac{1}{r}\\right)\\frac{e^{ikr}}{r}\\hat{n}\\cdot\\hat{r}+\\left(ik-\\frac{1}{\\tilde{r}}\\right)\\frac{e^{ik\\tilde{r}}}{\\tilde{r}}\\hat{n}\\cdot\\hat{\\tilde{r}}$$"
   ]
  },
  {
   "cell_type": "markdown",
   "id": "f6a4876e",
   "metadata": {},
   "source": [
    "Für ein $P_1$, der im $\\sigma$ steht, würde es sein:\n",
    "$$\\left(ik-\\frac{1}{r}\\right)\\frac{e^{ikr}}{r}\\hat{n}\\cdot\\hat{r}+\\left(ik-\\frac{1}{r}\\right)\\frac{e^{ikr}}{r}(-\\hat{n}\\cdot\\hat{r})$$\n",
    "$$\\Rightarrow\\left(ik-\\frac{1}{r}\\right)\\frac{e^{ikr}}{r}\\hat{n}\\cdot\\hat{r}-\\left(ik-\\frac{1}{r}\\right)\\frac{e^{ikr}}{r}\\hat{n}\\cdot\\hat{r}$$\n",
    "$$\\Rightarrow 0$$"
   ]
  },
  {
   "cell_type": "markdown",
   "id": "decbf0ee",
   "metadata": {},
   "source": [
    "$$U_{II}(r_0)=\\frac{1}{4\\pi}\\iint\\limits_{\\Sigma}\\left[2G(r)\\frac{\\partial U}{\\partial n}\\right]dS$$\n",
    "$$\\Rightarrow U_{II}(r_0)=\\frac{1}{2\\pi}\\iint\\limits_{\\Sigma}\\left[G(r)\\frac{\\partial U}{\\partial n}\\right]dS$$\n",
    "$$\\Rightarrow U_{II}(r_0)=\\frac{1}{2\\pi}\\iint\\limits_{\\Sigma}\\left[\\frac{e^{ikr}}{r}\\frac{\\partial U}{\\partial n}\\right]dS$$"
   ]
  },
  {
   "cell_type": "markdown",
   "id": "2e6eb007",
   "metadata": {},
   "source": [
    "Für eine Kugelwelle:\n",
    "$$U_{II}(r_0)=\\frac{1}{2\\pi}\\iint\\limits_{\\Sigma}\\left[\\frac{e^{ikr}}{r}\\frac{\\partial}{\\partial n}\\left(A\\frac{e^{ikr'}}{r'}\\right)\\right]dS$$\n",
    "$$\\Rightarrow U_{II}(r_0)=\\frac{1}{2\\pi}\\iint\\limits_{\\Sigma}\\left[\\frac{e^{ikr}}{r}\\cdot\\left(ikA\\frac{e^{ikr'}}{r'}\\right)\\hat{n}\\cdot\\hat{r}'\\right]dS$$\n",
    "$$\\Rightarrow U_{II}(r_0)=\\frac{ikA}{2\\pi}\\iint\\limits_{\\Sigma}\\frac{e^{ikr}}{r}\\frac{e^{ikr'}}{r'}\\hat{n}\\cdot\\hat{r}'dS$$"
   ]
  },
  {
   "cell_type": "markdown",
   "id": "683509c7",
   "metadata": {},
   "source": [
    "Dann hätten wir:\n",
    "$$\\boxed{U_{II}(r_0)=-\\frac{A}{i\\lambda}\\iint\\limits_{\\Sigma}\\frac{e^{ik(r+r')}}{rr'}\\hat{n}\\cdot\\hat{r}'}$$"
   ]
  },
  {
   "cell_type": "markdown",
   "id": "7ee5f5c2",
   "metadata": {},
   "source": [
    "## Vergleichung der Kirchhoff und Rayleigh-Sommerfeld Theorien\n",
    "Für diese Sektion nennen wir die Greensche Funktion, die Kirchhoff genutzt hat, $G_k$. In $\\Sigma$ haben wir:\n",
    "$$G_+=2G_k\\qquad\\frac{\\partial G_-}{\\partial n}=2\\frac{\\partial G_k}{\\partial n}$$\n",
    "Für Kirchhoff haben wir:\n",
    "$$U(r)=\\frac{1}{4\\pi}\\iint\\limits_\\Sigma\\left(\\frac{\\partial U}{\\partial n}G_k-U\\frac{\\partial G_k}{\\partial n}\\right)dS$$\n",
    "Für Rayleigh-Sommerfeld:\n",
    "$$U_I(r)=\\frac{1}{2\\pi}\\iint\\limits_\\Sigma-U\\frac{\\partial G_k}{\\partial n}dS$$\n",
    "$$\\Rightarrow U_{II}(r)=\\frac{1}{2\\pi}\\iint\\limits_\\Sigma\\frac{\\partial U}{\\partial n}G_kdS$$\n",
    "Das sieht aber ähnlich aus, wir könnten es schreiben:\n",
    "$$U(r)=\\frac{1}{4\\pi}\\iint\\limits_\\Sigma\\frac{\\partial U}{\\partial n}G_kdS+\\frac{1}{4\\pi}\\iint\\limits_\\Sigma -U\\frac{\\partial G_k}{\\partial n}dS$$\n",
    "$$\\Rightarrow U(r)=\\frac{1}{2}\\cdot\\left[\\frac{1}{2\\pi}\\iint\\limits_\\Sigma\\frac{\\partial U}{\\partial n}G_kdS+\\frac{1}{2\\pi}\\iint\\limits_\\Sigma -U\\frac{\\partial G_k}{\\partial n}dS\\right]$$\n",
    "$$\\Rightarrow U(r)=\\frac{1}{2}\\cdot\\left[U_{II}+U_I\\right]$$\n",
    "$$\\therefore\\boxed{U(r)=\\frac{U_{II}+U_I}{2}}$$\n",
    "Sodass die Kirchhoff-Lösung ist der Durchschnitt der beide Rayleigh-Sommerfeld Lösungen"
   ]
  },
  {
   "cell_type": "markdown",
   "id": "0990da65",
   "metadata": {},
   "source": [
    "Wir können auch alle drei simplifizierte Ergebnisse vergleichen:\n",
    "$$U_k(r_0)=\\frac{A}{ i\\lambda}\\iint\\limits_{\\Sigma}\\frac{e^{ik(r+r')}}{rr'}\\left(\\frac{\\hat{n}\\cdot\\hat{r}-\\hat{n}\\cdot\\hat{r}'}{2}\\right)dS$$\n",
    "$$U_I(r_0)=\\frac{A}{i\\lambda}\\iint\\limits_{\\Sigma}\\frac{e^{ik(r+r')}}{rr'}\\hat{n}\\cdot\\hat{r}dS$$\n",
    "$$U_{II}(r_0)=-\\frac{A}{i\\lambda}\\iint\\limits_{\\Sigma}\\frac{e^{ik(r+r')}}{rr'}\\hat{n}\\cdot\\hat{r}'$$"
   ]
  },
  {
   "cell_type": "markdown",
   "id": "e5113396",
   "metadata": {},
   "source": [
    "Wir können dann die Unregelmäßigkeits Faktor $\\psi$ definieren, sodass\n",
    "$$U(r_0)=\\frac{A}{ i\\lambda}\\iint\\limits_{\\Sigma}\\frac{e^{ik(r+r')}}{rr'}\\psi dS$$"
   ]
  },
  {
   "cell_type": "markdown",
   "id": "28e5e5cb",
   "metadata": {},
   "source": [
    "Wobei $\\psi$ durch folgendes definiert ist:\n",
    "$$\\psi=\\begin{cases}\n",
    "\\displaystyle\\frac{\\hat{n}\\cdot\\hat{r}-\\hat{n}\\cdot\\hat{r}'}{2}&\\text{Kirchhoff}\\\\\n",
    "\\hat{n}\\cdot\\hat{r}&\\text{Rayleigh }G_-\\\\\n",
    "-\\hat{n}\\cdot\\hat{r}'&\\text{Rayleigh }G_+\n",
    "\\end{cases}$$"
   ]
  },
  {
   "cell_type": "markdown",
   "id": "e4e0b898",
   "metadata": {},
   "source": [
    "Für eine weite Quelle, die rechtwinklige Ebene Welle Illumination produziert,hätten wir $-\\hat{n}\\cdot\\hat{r}=1$. und so wäre es:\n",
    "$$\\psi=\\begin{cases}\n",
    "\\displaystyle\\frac{1+\\cos\\theta}{2}&\\text{Kirchhoff}\\\\\n",
    "\\cos\\theta&\\text{Rayleigh }G_-\\\\\n",
    "1&\\text{Rayleigh }G_+\n",
    "\\end{cases}$$\n",
    "Wobei $\\theta$ die Winkel inzwischen Vektoren $\\hat{r}$ und $\\hat{n}$"
   ]
  },
  {
   "cell_type": "markdown",
   "id": "830962ba",
   "metadata": {},
   "source": [
    "In der Tätigkeit sind diese drei Lösungen wirklich nicht so anders, für solche ideale Situationen, wofür sie formuliert worden. Nur in der Nähe der Offnung fangen die Unterschiede an um aufzutauchen."
   ]
  }
 ],
 "metadata": {
  "kernelspec": {
   "display_name": "Julia 1.5.3",
   "language": "julia",
   "name": "julia-1.5"
  },
  "language_info": {
   "file_extension": ".jl",
   "mimetype": "application/julia",
   "name": "julia",
   "version": "1.5.3"
  }
 },
 "nbformat": 4,
 "nbformat_minor": 5
}
