{
 "cells": [
  {
   "cell_type": "markdown",
   "metadata": {},
   "source": [
    "# Skalare Lichtbeugung\n",
    "## Beugung\n",
    "Optische Dispersion, die Beugung des Lichts, ist das Phänomen, das wir im Regenbogen beobachten und in den Spektren, die von Prismen erzeugt werden. Die Lichtbrechung ist leicht zu beobachten, doch hat sie sich seit Newtons ersten Deutungsversuchen als ein sehr schwer zu modellierendes Phänomen erwiesen, weil es an der Grenze von Licht- und Materietheorien angesiedelt ist. Als Sommerfeld einmal gesagt hat: \"irgendeine Abweichung der Lichtstrahle die weder als Reflektion noch Refraktion ausgedeutet werden können.\"\n",
    "\n",
    "Vor dem Jahr 1665 glaubten der Physiker noch, dass das Licht korpuskular war. Aber Grimaldi hat in einer Experiment anders gefunden, etwas die mit der Korpuskulartheorie des Lichts nicht erkärt werden könnte. Hier kommt Christian Huyens rein. Er war der Erste, der eine Welletheorie des Lichts vorgeschlagen hat. Im Jahr 1678. Das war aber leider nicht so wichtig, weil Newton die Korpuskulartheorie bevorzugte. Sein Gefolgsleute waren derselbe Meinung und arme Huyens könnte nicht viel tun. Es gab kein Fortschritt für mehr als eine Zenturie.\n",
    "\n",
    "Im Jahr 1804 hat der englischer Physiker Thomas Young den Begriff \"Störung\" vorgestellt. Eine kontroversiale Idee für dieser Zeitpunkt, denn er hat gesagt, dass in spezifische Konditionen könnte es möglich sein, dass Licht addiert werden könnte, um Finsternis zu produzieren. "
   ]
  },
  {
   "cell_type": "markdown",
   "metadata": {},
   "source": [
    "Endlich ist Fresnel die Party angekommen und er hat im Jahr 1818 die Ideen von beiden Huygens und Young zusammenmitgebracht. Sein Model war ziemlich arbiträr aber trotzdem könnte er die Verteiligung des Lichts berechnen, und zwar mit höher Prüzision. Er hat seine Theorie präsentiert und überprüft, indem er ein Preis bekommen hat.\n",
    "\n",
    "Später im Jahr 1860 hat Maxwell das Licht als eine Elektromagnetische Welle erkennt und im 1882 hat Gustav Kirchhoff die Ideen von Huygens und Fresnel in einem festen mathematischen Grund fundamentieren. Leider waren die Randbedingungen nicht logisch zueinander und diese Theorie musste nur als eine Aproximation benutzt, aber trotzdem nähe zum echten Ergebnis. Am wichtigstens zu verstehen ist, dass hier war Licht als ein skalare Phänomen behandelt, und ehrlich gesagt ist Licht ein Vektorphänomen. Die Konsequenz ist das, in der Randbedingungen, die skalare Approximation kann nicht viel tun, um die real Phänomen zu beschreiben. Aber in besondere Konditionen kann es höher Präzision haben:\n",
    "1. Die Offnung muss viel länger als die Wellenlänge\n",
    "2. Die Beugungsfelde mussen nicht in der Nähe der Offnung gesehen werden"
   ]
  },
  {
   "cell_type": "markdown",
   "metadata": {},
   "source": [
    "## Maxwell Gleichungen\n",
    "\\begin{align*}\n",
    "\\nabla\\times\\vec{E}=-\\mu\\frac{\\partial\\vec{B}}{\\partial t}\\\\\n",
    "\\nabla\\times\\vec{B}=\\epsilon\\frac{\\partial\\vec{E}}{\\partial t}\\\\\n",
    "\\nabla\\cdot\\epsilon\\vec{E}=0\\\\\n",
    "\\nabla\\cdot\\mu\\vec{B}=0\n",
    "\\end{align*}"
   ]
  },
  {
   "cell_type": "markdown",
   "metadata": {},
   "source": [
    "Für alle Falle, die wir studieren werden, müssen wir ein paar Dinge vom Medium annehmen:\n",
    "1. Es ist linear, d.h. die lineare Eigenschaften die wir früher gesehen haben sind wahr\n",
    "2. Es ist isotropisch, d.h. die Eigenschaften des Mediums sind von der Richtung der Polarization der Welle unabhängig\n",
    "3. Es ist homogen, d.h. die Permittivität hat denselben Wert in allen Region, in dem die Welle propagiert\n",
    "4. Es ist nichtdispesriv, d.h. die Permittivität ist von der Wellenlänge unabhängig\n",
    "5. Es ist nichtmagnetisch, d.h. the magnetische Permeabilität ist immer gleich $\\mu_0$, die Magnetische Feldkonstante."
   ]
  },
  {
   "cell_type": "markdown",
   "metadata": {},
   "source": [
    "Wir nehmen dann die zweite Gleichung und machen eine Rotation:\n",
    "$$\\nabla\\times\\left(\\nabla\\times\\vec{E}\\right)=\\nabla\\times\\left(-\\mu\\frac{\\partial\\vec{B}}{\\partial t}\\right)$$"
   ]
  },
  {
   "cell_type": "markdown",
   "metadata": {},
   "source": [
    "Wir erinnern uns an der Identität:\n",
    "$$\\nabla\\times\\left(\\nabla\\times\\vec{F}\\right)=\\nabla\\left(\\nabla\\cdot\\vec{F}\\right)-\\nabla^2\\vec{F}$$"
   ]
  },
  {
   "cell_type": "markdown",
   "metadata": {},
   "source": [
    "Und wegen der dritte Gleichung haben wir dass $\\nabla\\cdot\\vec{E}=0$:\n",
    "Dann hätten wir:\n",
    "$$-\\nabla\\times\\mu\\frac{\\partial\\vec{B}}{\\partial t}=-\\nabla^2\\vec{E}$$\n",
    "Oder einfach nur\n",
    "$$\\nabla\\times\\mu\\frac{\\partial\\vec{B}}{\\partial t}=\\nabla^2\\vec{E}$$"
   ]
  },
  {
   "cell_type": "markdown",
   "metadata": {},
   "source": [
    "In der zweite Gleichung machen wir eine Derivation durch $t$:\n",
    "$$\\frac{\\partial }{\\partial t}\\left(\\nabla\\times\\vec{B}\\right) =\\frac{\\partial }{\\partial t}\\left(\\epsilon\\frac{\\partial\\vec{E}}{\\partial t}\\right)$$\n",
    "Wir können die Derivative drinnen im Laplace-Operator bringen in der linken Seite. Die Permittivität $\\epsilon$ ist von Zeit unabhängig, deshalb machen wir folgendes:\n",
    "$$\\nabla\\times\\frac{\\partial\\vec{B}}{\\partial t}=\\epsilon\\frac{\\partial^2\\vec{E}}{\\partial t^2}$$\n",
    "Multiplizieren wir beide Seiten mit $\\mu$\n",
    "$$\\nabla\\times\\mu\\frac{\\partial\\vec{B}}{\\partial t}=\\epsilon\\mu\\frac{\\partial^2\\vec{E}}{\\partial t^2}$$"
   ]
  },
  {
   "cell_type": "markdown",
   "metadata": {},
   "source": [
    "Dann hätten wir:\n",
    "$$\\epsilon\\mu\\frac{\\partial^2\\vec{E}}{\\partial t^2}=\\nabla^2\\vec{E}$$"
   ]
  },
  {
   "cell_type": "markdown",
   "metadata": {},
   "source": [
    "Nun erinnern wir uns, dass $\\mu=\\mu_0$ ist, wegen unsere Annahmen:\n",
    "$$\\nabla^2\\vec{E}-\\epsilon\\mu_0\\frac{\\partial^2\\vec{E}}{\\partial t^2}=0$$\n",
    "Die Lichtgeschwindigkeit ist durch folgendes definiert:\n",
    "$$c^2=\\frac{1}{\\mu_0\\epsilon_0}$$\n",
    "Und die Permittitivät eines Mediums ist durch folgendes definiert:\n",
    "$$\\epsilon=\\epsilon_0n^2$$\n",
    "Dann haben wir:\n",
    "$$c^2=\\frac{n^2}{\\mu_0\\epsilon}$$\n",
    "Und zurück zu unserer Gleichung:\n",
    "$$\\nabla^2\\vec{E}-\\frac{n^2}{c^2}\\frac{\\partial^2\\vec{E}}{\\partial t^2}=0$$"
   ]
  },
  {
   "cell_type": "markdown",
   "metadata": {},
   "source": [
    "Das hier ist eine Wellegleichung. Der Laplace-Operator durch:\n",
    "$$\\nabla^2=\\frac{\\partial^2}{\\partial x^2}+\\frac{\\partial^2}{\\partial y^2}+\\frac{\\partial^2}{\\partial z^2}$$\n",
    "in 3D räumlichen Koordinaten definiert ist. Wir hätten drei skalare Gleichungen für $x,y$ und $z$:\n",
    "$$\\frac{\\partial^2\\vec{E}}{\\partial x^2}-\\frac{n^2}{c^2}\\frac{\\partial^2E_x}{\\partial t^2}=0$$\n",
    "$$\\Rightarrow\\frac{\\partial^2E_x}{\\partial x^2}-\\frac{n^2}{c^2}\\frac{\\partial^2E_x}{\\partial t^2}=0$$\n",
    "Und für $y$ und $z$ wäre es ähnlich:\n",
    "$$\\frac{\\partial^2E_y}{\\partial y^2}-\\frac{n^2}{c^2}\\frac{\\partial^2E_y}{\\partial t^2}=0$$\n",
    "$$\\frac{\\partial^2E_z}{\\partial z^2}-\\frac{n^2}{c^2}\\frac{\\partial^2E_z}{\\partial t^2}=0$$"
   ]
  },
  {
   "cell_type": "markdown",
   "metadata": {},
   "source": [
    "Für den Magnetfeld ist es ähnlich:\n",
    "$$\\nabla^2\\vec{B}-\\frac{n^2}{c^2}\\frac{\\partial^2\\vec{B}}{\\partial t^2}=0$$\n",
    "Und wir werden dasselbe Ding haben. Wir können alles ainfach zusammenfassen, indem alle die Gleichungen addieren:\n",
    "$$\\frac{\\partial^2E_x}{\\partial x^2}-\\frac{n^2}{c^2}\\frac{\\partial^2E_x}{\\partial t^2}+\\frac{\\partial^2E_y}{\\partial y^2}-\\frac{n^2}{c^2}\\frac{\\partial^2E_y}{\\partial t^2}+\\frac{\\partial^2E_z}{\\partial z^2}-\\frac{n^2}{c^2}\\frac{\\partial^2E_z}{\\partial t^2}=0$$\n",
    "Aber $E_x=E_x(x,t)$,$E_y=E_y(y,t)$,$E_z=E_z(z,t)$\n",
    "$$\\Rightarrow\\nabla^2\\left(E_x+E_y+E_z\\right)-\\frac{n^2}{c^2}\\frac{\\partial^2}{\\partial t^2}\\left(E_x+E_y+E_z\\right)=0$$\n",
    "Wir könnten eine skalare Funktion $u(x,y,z,t)$ definieren, sodass:\n",
    "$$u(x,y,z,t)=E_x(x,t)+E_y(y,t)+E_z(z,t)$$\n",
    "Und noch erinnern wir uns an die ändere Annahmen. Die Eigenschaften des Mediums sind von Richtung unabhängig, i.e. Azimutalsymmetrie. Deshalb könnten wir alles nur einfach als eine Funktion von $r$, das Distanz, schreiben, so:\n",
    "$$u(r,t)=E_x(r,t)+E_y(r,t)+E_z(r,t)$$\n",
    "Und endlich hätten wir:\n",
    "$$\\nabla^2u(r,t)-\\frac{n^2}{c^2}\\frac{\\partial^2u(r,t)}{\\partial t^2}=0$$"
   ]
  },
  {
   "cell_type": "markdown",
   "metadata": {},
   "source": [
    "## Helmholtz Gleichung\n",
    "Wir haben eine monokromatische Welle, die durch folgendes definiert werden könnte:\n",
    "$$u(r,t)=A(r)\\cos\\left[\\omega t+\\phi(r)\\right]$$\n",
    "Wobei $\\omega\\equiv2\\pi\\nu$ und $\\nu$ die Frequenz der Welle ist.\n",
    "Oder auch\n",
    "$$u(r,t)=A(r)e^{-i[\\omega t+\\phi(r)]}$$\n",
    "Einfach nur\n",
    "$$u(r,t)=U(r)e^{-i\\omega t}$$\n",
    "Wobei $U(r)$ ein komplexe Festwerte ist, der durch\n",
    "$$U(r)=A(r)e^{-i\\phi(r)}$$\n",
    "definiert ist.\n",
    "Dann haben wir $u=U(r)T(t)$, wobei\n",
    "$$T=e^{-i\\omega t}$$\n",
    "Dann wäre die Gleichung\n",
    "$$\\nabla^2\\left[U(r)T(t)\\right]-\\frac{n^2}{c^2}\\frac{\\partial^2\\left[U(r)T(t)\\right]}{\\partial t^2}=0$$\n",
    "sein."
   ]
  },
  {
   "cell_type": "markdown",
   "metadata": {},
   "source": [
    "Durch die Trennung der Variabel:\n",
    "$$\\Rightarrow T(t)\\nabla^2U(r)-\\frac{n^2U(r)}{c^2}\\frac{\\partial^2T(t)}{\\partial t^2}=0$$\n",
    "$$\\Rightarrow\\frac{1}{U(r)}\\nabla^2U(r)-\\frac{n^2}{c^2T(t)}\\frac{\\partial^2T(t)}{\\partial t^2}=0$$\n",
    "Und hätten wir zwei Gleichungen:\n",
    "$$\\frac{1}{U(r)}\\nabla^2U(r)=k^2$$\n",
    "$$\\frac{n^2}{c^2T(t)}\\frac{\\partial^2T(t)}{\\partial t^2}=k^2$$"
   ]
  },
  {
   "cell_type": "markdown",
   "metadata": {},
   "source": [
    "Wir kümmern uns zuerst um die $U(r)$ Gleuchung:\n",
    "$$\\boxed{\\nabla^2U=Uk^2}$$\n",
    "Und das hier ist Helmholtz-Gleichung. In der $T(t)$ Gleichung haben wir:\n",
    "$$\\frac{d^2T}{dt^2}=\\frac{k^2c^2T}{n^2}$$\n",
    "Wir substituieren für $T$:\n",
    "$$\\frac{d^2}{dt^2}e^{-\\omega t}=\\frac{k^2c^2}{n^2}e^{-\\omega t}$$\n",
    "$$\\Rightarrow-\\omega\\frac{d}{dt}e^{-\\omega t}=\\frac{k^2c^2}{n^2}e^{-\\omega t}$$\n",
    "$$\\Rightarrow\\omega^2e^{-\\omega t}=\\frac{k^2c^2}{n^2}e^{-\\omega t}$$\n",
    "$$\\Rightarrow\\omega^2=\\frac{k^2c^2}{n^2}$$\n",
    "$$\\Rightarrow\\omega=\\frac{kc}{n}$$"
   ]
  },
  {
   "cell_type": "markdown",
   "metadata": {},
   "source": [
    "Erinnern wir uns dass $\\omega\\equiv2\\pi\\nu$ ist\n",
    "$$2\\pi\\nu=\\frac{kc}{n}$$\n",
    "Die Lichtgeschwindigkeit in einen Medium ist durch\n",
    "$$v=\\frac{c}{n}$$\n",
    "definiert. Dann haben wir:\n",
    "$$2\\pi\\nu=\\frac{kvn}{n}$$\n",
    "$$\\Rightarrow2\\pi\\nu=kv$$\n",
    "Wobei $v=\\nu\\lambda$, dann haben wir:\n",
    "$$\\Rightarrow2\\pi\\nu=k\\nu\\lambda$$\n",
    "$$\\Rightarrow k=\\frac{2\\pi}{\\lambda}$$\n",
    "Sodass $k$ das Wellenzahl ist."
   ]
  }
 ],
 "metadata": {
  "kernelspec": {
   "display_name": "Julia 1.5.3",
   "language": "julia",
   "name": "julia-1.5"
  },
  "language_info": {
   "file_extension": ".jl",
   "mimetype": "application/julia",
   "name": "julia",
   "version": "1.5.3"
  }
 },
 "nbformat": 4,
 "nbformat_minor": 4
}
