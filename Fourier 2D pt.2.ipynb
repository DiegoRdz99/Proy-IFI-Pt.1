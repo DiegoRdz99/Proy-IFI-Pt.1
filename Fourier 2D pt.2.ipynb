{
 "cells": [
  {
   "cell_type": "markdown",
   "metadata": {},
   "source": [
    "# Spatiale Frequezen"
   ]
  },
  {
   "cell_type": "markdown",
   "metadata": {},
   "source": [
    "## Wellengleichung\n",
    "Die Wellengleichung ist folgendes:\n",
    "$$\\frac{1}{c^2}\\frac{\\partial^2}{\\partial t^2}u(t,\\vec{r})-\\nabla^2u(t,\\vec{r})=0$$\n",
    "In einer Dimension wäre es einfach nur:\n",
    "$$\\frac{1}{c^2}\\frac{\\partial^2}{\\partial t^2}u(t,x)-\\frac{\\partial^2}{\\partial x^2}u(t,x)=0$$\n",
    "Hier ist eine lösung zB:\n",
    "$$u(x,t)=A_0\\cos(kx-\\omega t+\\phi_0)$$\n",
    "Wobei $k=\\frac{2\\pi}{\\lambda}$, $\\omega=2\\pi f$,$\\phi_0$ der Phasenwinkelkonstant ist und $A_0$ die Amplitude ist. Wir könnten es auch kürzer darstellen als foldendes:\n",
    "$$u(x,t)=A_0e^{i(kx-\\omega t+\\phi_0)}$$\n",
    "Oder einfach nur\n",
    "$$u(x,t)=A_0e^{i(kx-\\omega t)}$$\n",
    "Aber was passiert, wenn wir 2 oder mehr Dimensionen haben?"
   ]
  },
  {
   "cell_type": "markdown",
   "metadata": {},
   "source": [
    "## Ebene Welle\n",
    "Wenn wir mehr Dimensionen hätten, würde $u$ nicht nur von $x$ abhängig, sondern auch von den anderen räumlichen Koordinaten, d.h. $u=u(t,\\vec{r})$, weil wir immer noch nur eine zeitliche Koordinaten, $t$, haben. So muss $u$ nun sich ändern, aber wie?\n",
    "\n",
    "Wenn wir einfach nur direkt substituieren würden wir so es haben:\n",
    "$$u(\\vec{r},t)=A_0e^{i(k\\vec{r}-\\omega t)}$$\n",
    "Aber das macht überhaupt keinen Sinn, weil wir eine Subtraktion zwischen ein Vektor und ein Skalar haben würden. Also, $t$ wird immer ein Skalar sein, deshalb müssen wir ein Skalar für $k$ und $\\vec{r}$ auch haben und deswegen müss sein Produkt ein Skalarprodukt sein. Aber dafür muss $k$ auch ein Vektor sein und es ist noch ein Skalar. Deshalb definieren wir ein $k$ Vektor durch:\n",
    "$$\\vec{k}=\\frac{2\\pi}{\\lambda}\\hat{k}$$\n",
    "Wobei $\\hat{k}$ in der Richtung der Bewebung des Welles zeigt. So haben wir endlich:\n",
    "$$u(\\vec{r},t)=A_0e^{i(\\vec{k}\\cdot\\vec{r}-\\omega t)}$$\n",
    "Aber wir könnten es noch einfacher machen, indem wir unsere Koordinatensystem in so eine Weise definieren, dass $\\hat{k}=\\hat{z}$. Dann hätten wir:\n",
    "$$u(z,t)=A_0e^{i(kz-\\omega t)}$$\n",
    "In diese Konvention würden wir eine Ebene Welle haben, die Symmetrie hat. Nämlich würde sie derselbe Wert in alle $x-y$ Koordinaten für jeden Wert von $z$."
   ]
  },
  {
   "cell_type": "markdown",
   "metadata": {},
   "source": [
    "## Komplexe Funktionen\n",
    "Komplexe Zählen können wir als folgendes darstellen:\n",
    "$$w= re^{i\\phi}$$\n",
    "Und eine Komplexe Funktion könnten wir auch bauen:\n",
    "$$w(r,\\phi)= re^{i\\phi}$$\n",
    "Aber was wenn $r$ und $\\phi$ auch von anderen Werten abhängig sind? Dann hätten wir folgendes:\n",
    "$$w(x,y)= r(x,y)e^{i\\phi(x,y)}$$\n",
    "So würden wir eine komplexe Funktion haben, die von den 2D räumlichen Koordinaten abhängig ist, d.h. eine mehrdimensionale Funktion mit realen Funktionsargumente und komplexen Funktionswerte.\n",
    "\n",
    "Diese Funktion ist ähnlich wie die Ebene Welle, aber hier ist die Amplitude nicht fest. Wir könnten aber so eine Region bedenken, in der $r(x,y)$ ungefähr fest ist, d.h. $r_x\\approx0$ und $r_y\\approx0$. So könnten wir uns in der Phasenwinkel konzentrieren.\n",
    "$$w(x,y)\\approx r_0e^{i\\phi(x,y)}$$"
   ]
  },
  {
   "cell_type": "markdown",
   "metadata": {},
   "source": [
    "## Lokale spatiale Frequenzen\n",
    "\n",
    "Wir definieren die lokale spatiale Frequenzen als folgendes:\n",
    "$$\\xi=\\frac{1}{2\\pi}\\frac{\\partial}{\\partial x}\\phi(x,y)\\qquad\\zeta=\\frac{1}{2\\pi}\\frac{\\partial}{\\partial y}\\phi(x,y)$$\n",
    "Wenn $w(x,y)$ definiert ist. Wenn nicht, sind beide Null. Lass uns nun ein Beispiel analysieren:\n",
    "\n",
    "Wir haben die Funktion:\n",
    "$$w(x,y)=e^{i2\\pi(ux+vy)}$$\n",
    "Wir können die lokale spatiale Frequenzen berechnen:\n",
    "$$\\xi=\\frac{1}{2\\pi}\\frac{\\partial}{\\partial x}\\left[i2\\pi(ux+vy)\\right]=\\frac{1}{2\\pi}\\cdot2\\pi u=u$$\n",
    "$$\\zeta=\\frac{1}{2\\pi}\\frac{\\partial}{\\partial y}\\left[i2\\pi(ux+vy)\\right]=\\frac{1}{2\\pi}\\cdot2\\pi v = v$$\n",
    "Die lokale spatiale Frequenzen $(\\xi,\\zeta)$ sind dieselbe wie die spatiale Frequezen $(u,v)$ in der ganze $x-y$ Ebene."
   ]
  },
  {
   "cell_type": "markdown",
   "metadata": {},
   "source": [
    "# Lineare Systeme\n",
    "## Lineare Operatoren\n",
    "Ein Operator ist eine mathematische Vorschrift, durch die man aus mathematischen Objekten neue Objekte bilden kann. Er kann eine standardisierte Funktion oder eine Vorschrift über Funktionen sein. Wir definieren dann ein lineal Operator $\\mathcal{S}\\{\\}$ durch folgendes Ausdruck:\n",
    "$$\\mathcal{S}\\{g_1(x_1,y_1)\\}=g_2(x_2,y_2)$$\n",
    "Wobei $g_1$ und $g_2$ Funktionen sind, die durch unser Operator verbindet sind. Um ein ein linear Operator zu sein, muss er eine entscheidende Eigenschaft haben:\n",
    "$$\\mathcal{S}\\{a\\cdot p_1(x_1,y_1)\\pm b\\cdot q_1(x_1,y_1)\\}=a\\cdot\\mathcal{S}\\{p_1(x_1,y_1)\\}\\pm b\\cdot\\mathcal{S}\\{q_1(x_1,y_1)\\}$$\n",
    "Wobei $a$ und $b$ Festwerte sind. Das nenner wir auch Superpositionsprinzip und für uns wird es sehr hilfreich sein, weil wir die Änderung zu einer Funktion als die Summe der Änderungen zu einfachere \"elementale\" Funktionen darstellen können. Zum Beispiel haben wir der Faltungsatz:\n",
    "$$g_1(x_1,y_1)=\\iint_{-\\infty}^\\infty g_1(\\alpha,\\beta)\\delta(x_1-a,y_1-b)d\\alpha d\\beta$$"
   ]
  },
  {
   "cell_type": "markdown",
   "metadata": {},
   "source": [
    "Wir können dann der Operator benutzen:\n",
    "$$\\mathcal{S}\\{g_1(x_1,y_1)\\}=\\mathcal{S}\\left\\{\\iint_{-\\infty}^\\infty g_1(\\alpha,\\beta)\\delta(x_1-a,y_1-b)d\\alpha d\\beta\\right\\}$$"
   ]
  },
  {
   "cell_type": "markdown",
   "metadata": {},
   "source": [
    "An der linken Seite können wir einfach nur $g_2$ schreiben. An der rechten Seite wissen wir, dass die Ergebnissefunktion unabhängig von $\\alpha$ und $\\beta$ ist. Deswegen können wir der Operetor rein in der Integral bringen.\n",
    "$$g_2(x_2,y_2)=\\iint_{-\\infty}^\\infty g_1(\\alpha,\\beta)\\mathcal{S}\\left\\{\\delta(x_1-a,y_1-b)\\right\\}d\\alpha d\\beta$$"
   ]
  },
  {
   "cell_type": "markdown",
   "metadata": {},
   "source": [
    "Wir definieren dann ein Funktional $h(x_2,y_2;\\alpha,\\beta)$ sodass:\n",
    "$$h(x_2,y_2;\\alpha,\\beta)\\mathcal{S}\\left\\{\\delta(x_1-a,y_1-b)\\right\\}$$\n",
    "Und nennen wir es die Impulsantwort für das System in der Punkt $(\\alpha,\\beta)$. Dann haben wir:\n",
    "$$g_2(x_2,y_2)=\\iint_{-\\infty}^\\infty g_1(\\alpha,\\beta)h(x_2,y_2;\\alpha,\\beta)d\\alpha d\\beta$$\n",
    "Und das hier nennen wir die Superpositionsintegralsatz"
   ]
  },
  {
   "cell_type": "markdown",
   "metadata": {},
   "source": [
    "## Zeitinvarianz\n",
    "Wir haben ein zeitinvarianzisches System, wenn die Impulsantwort $h(t;\\tau)$ nur von die Zeitunterschied $(t-\\tau)$ hängt. Für solche Systeme können wir $h$ einfacher darstellen:\n",
    "$$h(x_2,y_2;\\alpha,\\beta)=h(x_2-\\alpha,y_2-\\beta)$$\n",
    "So hätten wir dann:\n",
    "$$g_2(x_2,y_2)=\\iint_{-\\infty}^\\infty g_1(\\alpha,\\beta)h(x_2-\\alpha,y_2-\\beta)d\\alpha d\\beta$$\n",
    "Aber erinnern wir uns nun an der Faltungsatz:\n",
    "$$\\mathcal{F}\\left\\{\\iint_{\\mathbb{R}^2} g(\\alpha,\\beta)h(x-\\alpha,y-\\beta)d\\alpha d\\beta\\right\\}=G(u,v)H(u,v)$$"
   ]
  },
  {
   "cell_type": "markdown",
   "metadata": {},
   "source": [
    "Hätten wir dann:\n",
    "$$G_2(u,v)=G_1(u,v)H(u,v)$$\n",
    "Wobei $H$ die Fourier-Transformation der Impulsantwort ist, die durch folgendes definiert würde:\n",
    "$$H(u,v)=\\iint_{\\mathbb{R}^2} h(\\alpha,\\beta)e^{-i(u\\alpha+v\\beta)}d\\alpha d\\beta$$"
   ]
  }
 ],
 "metadata": {
  "kernelspec": {
   "display_name": "Julia 1.5.3",
   "language": "julia",
   "name": "julia-1.5"
  },
  "language_info": {
   "file_extension": ".jl",
   "mimetype": "application/julia",
   "name": "julia",
   "version": "1.5.3"
  }
 },
 "nbformat": 4,
 "nbformat_minor": 4
}
